{
 "cells": [
  {
   "cell_type": "markdown",
   "id": "d45fb7dc-a3a8-4162-bb8a-9da5efe33ab4",
   "metadata": {},
   "source": [
    "# PyChef"
   ]
  },
  {
   "cell_type": "code",
   "execution_count": 1,
   "id": "f645dd22-271b-464f-8c15-3b72e826fad2",
   "metadata": {},
   "outputs": [],
   "source": [
    "import pychef_helper"
   ]
  },
  {
   "cell_type": "markdown",
   "id": "e3af73de-773f-49e4-92bb-5363999ab74e",
   "metadata": {},
   "source": [
    "## Ask the Chef"
   ]
  },
  {
   "cell_type": "markdown",
   "id": "2a21187b-feb2-4d87-8a39-2a388532e295",
   "metadata": {},
   "source": [
    "**Edit the number of each that you want**"
   ]
  },
  {
   "cell_type": "code",
   "execution_count": 2,
   "id": "465e01d6-9759-4890-a18e-fec521ef8ae7",
   "metadata": {},
   "outputs": [],
   "source": [
    "breakfast_count = 5\n",
    "lunch_count = 5\n",
    "dinner_count = 5\n",
    "snack_count = 5\n",
    "baking_count=1"
   ]
  },
  {
   "cell_type": "markdown",
   "id": "48f4e6fe-edd8-4807-bb28-b6e52af7ed51",
   "metadata": {},
   "source": [
    "**Run this cell to generate the meal plan**"
   ]
  },
  {
   "cell_type": "code",
   "execution_count": 3,
   "id": "074c6df2-b646-455d-b430-d707e96cccca",
   "metadata": {},
   "outputs": [
    {
     "name": "stdout",
     "output_type": "stream",
     "text": [
      "\n",
      "  ____  ____   __ __   ___   ____     ___         __   ____  ____          __   ___    ___   __  _      __ \n",
      " /    ||    \\ |  |  | /   \\ |    \\   /  _]       /  ] /    ||    \\        /  ] /   \\  /   \\ |  |/ ]    |  |\n",
      "|  o  ||  _  ||  |  ||     ||  _  | /  [_       /  / |  o  ||  _  |      /  / |     ||     ||  ' /     |  |\n",
      "|     ||  |  ||  ~  ||  O  ||  |  ||    _]     /  /  |     ||  |  |     /  /  |  O  ||  O  ||    \\     |__|\n",
      "|  _  ||  |  ||___, ||     ||  |  ||   [_     /   \\_ |  _  ||  |  |    /   \\_ |     ||     ||     \\     __ \n",
      "|  |  ||  |  ||     ||     ||  |  ||     |    \\     ||  |  ||  |  |    \\     ||     ||     ||  .  |    |  |\n",
      "|__|__||__|__||____/  \\___/ |__|__||_____|     \\____||__|__||__|__|     \\____| \\___/  \\___/ |__|\\_|    |__|\n",
      "                                                                                                           \n",
      "\n",
      "\n",
      "=================\n",
      "MEAL PLAN\n",
      "=================\n",
      "\n",
      "Breakfast:\n",
      "----------------\n",
      "- avocado toast (x2)\n",
      "- yogurt with berries (x4)\n",
      "\n",
      "Lunch:\n",
      "----------------\n",
      "- avocado toast (x2)\n",
      "- thai salad (x4)\n",
      "\n",
      "Dinner:\n",
      "----------------\n",
      "- ahi tuna bowl (x1)\n",
      "- pesto pasta (x2)\n",
      "- shrimp pad thai (x2)\n",
      "\n",
      "Snacks:\n",
      "----------------\n",
      "- fruit to bite into (x1)\n",
      "- fruit to nibble on (x2)\n",
      "- oatmeal (x2)\n",
      "\n",
      "Baking:\n",
      "----------------\n",
      "- banana bread (x1)\n",
      "\n",
      "=================\n",
      "INGREDIENTS\n",
      "=================\n",
      "\n",
      "Get each time:\n",
      "----------------\n",
      "- ahi tuna (x1)\n",
      "- apple cinnamon oatmeal (x2)\n",
      "- avocado (x2)\n",
      "- banana (x1)\n",
      "- blackberries (x1)\n",
      "- blueberries (x1)\n",
      "- brown rice (x3)\n",
      "- cherries (x1)\n",
      "- chicken (x2)\n",
      "- chocolate chips (x1)\n",
      "- cilantro (x1)\n",
      "- eggs (x4)\n",
      "- fetuccini (x1)\n",
      "- french baby boule (x2)\n",
      "- granola (x2)\n",
      "- greek yogurt (x2)\n",
      "- green onion (x2)\n",
      "- kale (x1)\n",
      "- peanut butter (x1)\n",
      "- peanut sauce (x2)\n",
      "- peanuts (x3)\n",
      "- pesto sauce (x1)\n",
      "- pickeled onions (x2)\n",
      "- pluot (x1)\n",
      "- red bell pepper (x2)\n",
      "- red grapes (x1)\n",
      "- rice noodles (x1)\n",
      "- sausage (x1)\n",
      "- shrimp (x1)\n",
      "- spinach (x1)\n",
      "- spring salad mix (x2)\n",
      "- strawberries (x2)\n",
      "- yellow onion (x1)\n",
      "\n",
      "Check stock:\n",
      "----------------\n",
      "- baking soda (x1)\n",
      "- brown sugar (x1)\n",
      "- butter (x2)\n",
      "- cinnamon (x1)\n",
      "- fish sauce (x1)\n",
      "- flour (x1)\n",
      "- granulated sugar (x1)\n",
      "- japanese bbq sauce (x1)\n",
      "- milk (x1)\n",
      "- olive oil (x2)\n",
      "- rice vinegar (x1)\n",
      "- salt (x1)\n",
      "- soy sauce (x1)\n",
      "- sriracha (x1)\n",
      "- vanilla (x1)\n"
     ]
    }
   ],
   "source": [
    "chef_dict = pychef_helper.generate_meal_plan(\n",
    "    num_breakfast=breakfast_count,\n",
    "    num_lunch=lunch_count,\n",
    "    num_dinner=dinner_count,\n",
    "    num_snacks=snack_count,\n",
    "    num_baking=baking_count\n",
    ")\n",
    "\n",
    "pychef_helper.print_meal_plan(chef_dict)"
   ]
  },
  {
   "cell_type": "code",
   "execution_count": null,
   "id": "369f497d-ee62-408c-970c-4fa46dc8b2c9",
   "metadata": {},
   "outputs": [],
   "source": []
  }
 ],
 "metadata": {
  "kernelspec": {
   "display_name": "Python 3 (ipykernel)",
   "language": "python",
   "name": "python3"
  },
  "language_info": {
   "codemirror_mode": {
    "name": "ipython",
    "version": 3
   },
   "file_extension": ".py",
   "mimetype": "text/x-python",
   "name": "python",
   "nbconvert_exporter": "python",
   "pygments_lexer": "ipython3",
   "version": "3.9.9"
  }
 },
 "nbformat": 4,
 "nbformat_minor": 5
}
