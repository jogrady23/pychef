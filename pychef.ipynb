{
 "cells": [
  {
   "cell_type": "markdown",
   "id": "d45fb7dc-a3a8-4162-bb8a-9da5efe33ab4",
   "metadata": {},
   "source": [
    "# PyChef"
   ]
  },
  {
   "cell_type": "markdown",
   "id": "e3af73de-773f-49e4-92bb-5363999ab74e",
   "metadata": {},
   "source": [
    "## Ask the Chef"
   ]
  },
  {
   "cell_type": "code",
   "execution_count": 13,
   "id": "465e01d6-9759-4890-a18e-fec521ef8ae7",
   "metadata": {},
   "outputs": [],
   "source": [
    "breakfast_count = 5\n",
    "lunch_count = 5\n",
    "dinner_count = 3\n",
    "snack_count = 5"
   ]
  },
  {
   "cell_type": "markdown",
   "id": "48f4e6fe-edd8-4807-bb28-b6e52af7ed51",
   "metadata": {},
   "source": [
    "**Run this cell to generate the meal plan**"
   ]
  },
  {
   "cell_type": "code",
   "execution_count": null,
   "id": "074c6df2-b646-455d-b430-d707e96cccca",
   "metadata": {},
   "outputs": [],
   "source": [
    "grocery_list, menu = pychef_helper.generate_meal_plan()"
   ]
  },
  {
   "cell_type": "markdown",
   "id": "01ce847a-e2ae-4001-b8cc-dfba0e878b5f",
   "metadata": {},
   "source": [
    "## Imports & Recipe Importing"
   ]
  },
  {
   "cell_type": "code",
   "execution_count": 8,
   "id": "f645dd22-271b-464f-8c15-3b72e826fad2",
   "metadata": {},
   "outputs": [],
   "source": [
    "import pychef_helper\n",
    "import pandas as pd\n",
    "import yaml\n",
    "\n",
    "# Load in and validate recipes\n",
    "recipes_dict = pychef_helper.load_recipes()\n",
    "recipes_valid, invalid_dict = pychef_helper.validate_recipes(recipes_dict)\n",
    "\n",
    "if not recipes_valid:\n",
    "    print('INVALID RECIPES')\n",
    "    "
   ]
  },
  {
   "cell_type": "code",
   "execution_count": null,
   "id": "01da1efc-ac8c-4561-905f-a0a4ceb26b82",
   "metadata": {},
   "outputs": [],
   "source": []
  }
 ],
 "metadata": {
  "kernelspec": {
   "display_name": "Python 3 (ipykernel)",
   "language": "python",
   "name": "python3"
  },
  "language_info": {
   "codemirror_mode": {
    "name": "ipython",
    "version": 3
   },
   "file_extension": ".py",
   "mimetype": "text/x-python",
   "name": "python",
   "nbconvert_exporter": "python",
   "pygments_lexer": "ipython3",
   "version": "3.9.9"
  }
 },
 "nbformat": 4,
 "nbformat_minor": 5
}
